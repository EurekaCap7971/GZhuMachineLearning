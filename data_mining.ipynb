{
 "cells": [
  {
   "cell_type": "markdown",
   "metadata": {
    "toc": true
   },
   "source": [
    "<h1>数据挖掘实验<span class=\"tocSkip\"></span></h1>\n",
    "<div class=\"toc\"><ul class=\"toc-item\"><li><span><a href=\"#数据处理\" data-toc-modified-id=\"数据处理-1\">数据处理</a></span><ul class=\"toc-item\"><li><span><a href=\"#读取数据\" data-toc-modified-id=\"读取数据-1.1\">读取数据</a></span></li><li><span><a href=\"#数据统一\" data-toc-modified-id=\"数据统一-1.2\">数据统一</a></span></li><li><span><a href=\"#去重\" data-toc-modified-id=\"去重-1.3\">去重</a></span></li><li><span><a href=\"#体测成绩转换为百分制\" data-toc-modified-id=\"体测成绩转换为百分制-1.4\">体测成绩转换为百分制</a></span></li></ul></li><li><span><a href=\"#实验1\" data-toc-modified-id=\"实验1-2\">实验1</a></span><ul class=\"toc-item\"><li><span><a href=\"#学生中家乡在Beijing的所有课程的平均成绩\" data-toc-modified-id=\"学生中家乡在Beijing的所有课程的平均成绩-2.1\">学生中家乡在Beijing的所有课程的平均成绩</a></span></li><li><span><a href=\"#学生中家乡在广州，课程1在80分以上，且课程9在9分以上的男同学的数量\" data-toc-modified-id=\"学生中家乡在广州，课程1在80分以上，且课程9在9分以上的男同学的数量-2.2\">学生中家乡在广州，课程1在80分以上，且课程9在9分以上的男同学的数量</a></span></li><li><span><a href=\"#比较广州和上海两地女生的平均体能测试成绩，哪个地区的更强些(广州更强）\" data-toc-modified-id=\"比较广州和上海两地女生的平均体能测试成绩，哪个地区的更强些(广州更强）-2.3\">比较广州和上海两地女生的平均体能测试成绩，哪个地区的更强些(广州更强）</a></span></li><li><span><a href=\"#学习成绩和体能测试成绩，两者的相关性是多少\" data-toc-modified-id=\"学习成绩和体能测试成绩，两者的相关性是多少-2.4\">学习成绩和体能测试成绩，两者的相关性是多少</a></span></li></ul></li><li><span><a href=\"#实验2\" data-toc-modified-id=\"实验2-3\">实验2</a></span><ul class=\"toc-item\"><li><span><a href=\"#以课程1成绩为x轴，体能成绩为y轴，画出散点图\" data-toc-modified-id=\"以课程1成绩为x轴，体能成绩为y轴，画出散点图-3.1\">以课程1成绩为x轴，体能成绩为y轴，画出散点图</a></span></li><li><span><a href=\"#以5分为间隔，画出课程1的成绩直方图\" data-toc-modified-id=\"以5分为间隔，画出课程1的成绩直方图-3.2\">以5分为间隔，画出课程1的成绩直方图</a></span></li><li><span><a href=\"#对每门成绩进行z-score归一化，得到归一化的数据矩阵\" data-toc-modified-id=\"对每门成绩进行z-score归一化，得到归一化的数据矩阵-3.3\">对每门成绩进行z-score归一化，得到归一化的数据矩阵</a></span></li><li><span><a href=\"#计算协相关矩阵，并可视化出混淆矩阵\" data-toc-modified-id=\"计算协相关矩阵，并可视化出混淆矩阵-3.4\">计算协相关矩阵，并可视化出混淆矩阵</a></span></li><li><span><a href=\"#根据协相关矩阵，找到距离每个样本最近的三个样本，得到nx3的矩阵\" data-toc-modified-id=\"根据协相关矩阵，找到距离每个样本最近的三个样本，得到nx3的矩阵-3.5\">根据协相关矩阵，找到距离每个样本最近的三个样本，得到nx3的矩阵</a></span></li></ul></li><li><span><a href=\"#实验3\" data-toc-modified-id=\"实验3-4\">实验3</a></span><ul class=\"toc-item\"><li><span><a href=\"#k_means的实现\" data-toc-modified-id=\"k_means的实现-4.1\">k_means的实现</a></span></li><li><span><a href=\"#对实验二中的z-score归一化的成绩数据进行测试，观察聚类为2类，3类，4类，5类的结果\" data-toc-modified-id=\"对实验二中的z-score归一化的成绩数据进行测试，观察聚类为2类，3类，4类，5类的结果-4.2\">对实验二中的z-score归一化的成绩数据进行测试，观察聚类为2类，3类，4类，5类的结果</a></span></li><li><span><a href=\"#对测试数据进行测试，并画出可视化出散点图，类中心，类半径，并分析聚为几类合适\" data-toc-modified-id=\"对测试数据进行测试，并画出可视化出散点图，类中心，类半径，并分析聚为几类合适-4.3\">对测试数据进行测试，并画出可视化出散点图，类中心，类半径，并分析聚为几类合适</a></span></li><li><span><a href=\"#找到聚类中心后，判断(2,6)是属于哪一类\" data-toc-modified-id=\"找到聚类中心后，判断(2,6)是属于哪一类-4.4\">找到聚类中心后，判断(2,6)是属于哪一类</a></span></li></ul></li><li><span><a href=\"#实验4\" data-toc-modified-id=\"实验4-5\">实验4</a></span><ul class=\"toc-item\"><li><span><a href=\"#学习并画出sigmoid函数\" data-toc-modified-id=\"学习并画出sigmoid函数-5.1\">学习并画出sigmoid函数</a></span></li><li><span><a href=\"#设计梯度下降算法，实现逻辑回归模型的学习过程\" data-toc-modified-id=\"设计梯度下降算法，实现逻辑回归模型的学习过程-5.2\">设计梯度下降算法，实现逻辑回归模型的学习过程</a></span></li><li><span><a href=\"#用梯度下降算法进行数据拟合，并用学习好的模型对(2,6)分类\" data-toc-modified-id=\"用梯度下降算法进行数据拟合，并用学习好的模型对(2,6)分类-5.3\">用梯度下降算法进行数据拟合，并用学习好的模型对(2,6)分类</a></span></li></ul></li><li><span><a href=\"#知识点\" data-toc-modified-id=\"知识点-6\">知识点</a></span><ul class=\"toc-item\"><li><span><a href=\"#k-means\" data-toc-modified-id=\"k-means-6.1\">k means</a></span></li><li><span><a href=\"#线性回归\" data-toc-modified-id=\"线性回归-6.2\">线性回归</a></span></li><li><span><a href=\"#损失函数\" data-toc-modified-id=\"损失函数-6.3\">损失函数</a></span></li><li><span><a href=\"#直接求闭式解\" data-toc-modified-id=\"直接求闭式解-6.4\">直接求闭式解</a></span></li><li><span><a href=\"#梯度下降求解\" data-toc-modified-id=\"梯度下降求解-6.5\">梯度下降求解</a></span></li><li><span><a href=\"#正则化\" data-toc-modified-id=\"正则化-6.6\">正则化</a></span></li><li><span><a href=\"#逻辑回归\" data-toc-modified-id=\"逻辑回归-6.7\">逻辑回归</a></span></li></ul></li></ul></div>"
   ]
  },
  {
   "cell_type": "code",
   "execution_count": 1,
   "metadata": {
    "lang": "zh-cn"
   },
   "outputs": [],
   "source": [
    "import warnings\n",
    "warnings.filterwarnings('ignore')\n",
    "import math\n",
    "import numpy as np\n",
    "import pandas as pd\n",
    "#!pip install xlrd\n",
    "import matplotlib.pyplot as plt"
   ]
  },
  {
   "cell_type": "markdown",
   "metadata": {},
   "source": [
    "## 数据处理"
   ]
  },
  {
   "cell_type": "markdown",
   "metadata": {},
   "source": [
    "### 读取数据"
   ]
  },
  {
   "cell_type": "code",
   "execution_count": 2,
   "metadata": {
    "code_folding": []
   },
   "outputs": [],
   "source": [
    "data_excel=pd.read_excel('data/data_excel.xlsx')\n",
    "data_txt=pd.read_table('data/data_txt.txt',sep=',')"
   ]
  },
  {
   "cell_type": "markdown",
   "metadata": {},
   "source": [
    "### 数据统一"
   ]
  },
  {
   "cell_type": "code",
   "execution_count": 3,
   "metadata": {
    "code_folding": []
   },
   "outputs": [],
   "source": [
    "data_excel['ID']=data_excel['ID']+202000\n",
    "data_txt.loc[data_txt['Height']<10, 'Height']=data_txt.loc[data_txt['Height']<10, 'Height']*100\n",
    "data_excel.loc[data_excel['Height']<10, 'Height']=data_excel.loc[data_excel['Height']<10, 'Height']*100\n",
    "data_txt['Gender'].loc[(data_txt['Gender'] == 'male')] = 'boy'\n",
    "data_txt['Gender'].loc[(data_txt['Gender'] == 'female')] = 'girl'"
   ]
  },
  {
   "cell_type": "markdown",
   "metadata": {},
   "source": [
    "### 去重"
   ]
  },
  {
   "cell_type": "code",
   "execution_count": 4,
   "metadata": {},
   "outputs": [],
   "source": [
    "data=pd.concat([data_excel,data_txt]).drop_duplicates().sort_values('ID')\n",
    "data['C10']=0\n",
    "data=data.dropna(how='any').reset_index(drop=1)\n",
    "data=data.groupby('ID').head(1)"
   ]
  },
  {
   "cell_type": "markdown",
   "metadata": {},
   "source": [
    "### 体测成绩转换为百分制"
   ]
  },
  {
   "cell_type": "code",
   "execution_count": 5,
   "metadata": {},
   "outputs": [],
   "source": [
    "data['Constitution'].loc[(data['Constitution'] == 'bad')] =40\n",
    "data['Constitution'].loc[(data['Constitution'] == 'general')] =60\n",
    "data['Constitution'].loc[(data['Constitution'] == 'good')] =80\n",
    "data['Constitution'].loc[(data['Constitution'] == 'excellent')] =100\n",
    "data['Grade']=(data['C1']+data['C2']+data['C3']+data['C4']+data['C5']+data['C6']*10+data['C7']*10+data['C8']*10+data['C9']*10+data['C10']*10)/10"
   ]
  },
  {
   "cell_type": "markdown",
   "metadata": {},
   "source": [
    "## 实验1"
   ]
  },
  {
   "cell_type": "markdown",
   "metadata": {},
   "source": [
    "### 学生中家乡在Beijing的所有课程的平均成绩"
   ]
  },
  {
   "cell_type": "code",
   "execution_count": 6,
   "metadata": {
    "code_folding": []
   },
   "outputs": [
    {
     "name": "stdout",
     "output_type": "stream",
     "text": [
      "C1 平均成绩:  80.22\n",
      "C2 平均成绩:  79.0\n",
      "C3 平均成绩:  85.61\n",
      "C4 平均成绩:  70.65\n",
      "C5 平均成绩:  89.96\n",
      "C6 平均成绩:  7.7\n",
      "C7 平均成绩:  7.3\n",
      "C8 平均成绩:  8.96\n",
      "C9 平均成绩:  7.13\n",
      "C10 平均成绩:  0.0\n"
     ]
    }
   ],
   "source": [
    "for i in range(1,11):\n",
    "    cclass='C'+str(i)\n",
    "    print(cclass,'平均成绩: ',round(data[data['City']=='Beijing'][cclass].mean(),2))"
   ]
  },
  {
   "cell_type": "markdown",
   "metadata": {
    "lang": "ca"
   },
   "source": [
    "### 学生中家乡在广州，课程1在80分以上，且课程9在9分以上的男同学的数量"
   ]
  },
  {
   "cell_type": "code",
   "execution_count": 7,
   "metadata": {},
   "outputs": [
    {
     "data": {
      "text/plain": [
       "1"
      ]
     },
     "execution_count": 7,
     "metadata": {},
     "output_type": "execute_result"
    }
   ],
   "source": [
    "data[data['City']=='Guangzhou'][data['Gender']=='boy'][data['C1']>80][data['C9']>9].shape[0]"
   ]
  },
  {
   "cell_type": "markdown",
   "metadata": {},
   "source": [
    "数量为{{answer1}}"
   ]
  },
  {
   "cell_type": "markdown",
   "metadata": {
    "lang": "zh-cn"
   },
   "source": [
    "### 比较广州和上海两地女生的平均体能测试成绩，哪个地区的更强些(广州更强）"
   ]
  },
  {
   "cell_type": "code",
   "execution_count": 8,
   "metadata": {},
   "outputs": [
    {
     "name": "stdout",
     "output_type": "stream",
     "text": [
      "广州地区的体能测试成绩更强些\n"
     ]
    }
   ],
   "source": [
    "gz=data[data['Gender']=='girl'][data['City']=='Guangzhou']['Constitution'].mean()\n",
    "sh=data[data['Gender']=='girl'][data['City']=='Shanghai']['Constitution'].mean()\n",
    "if gz>=sh:\n",
    "    print('广州地区的体能测试成绩更强些')\n",
    "else:\n",
    "    print('上海地区的体能测试成绩更强些')"
   ]
  },
  {
   "cell_type": "markdown",
   "metadata": {},
   "source": [
    "{{answer2}}地区的体能测试成绩更强些"
   ]
  },
  {
   "cell_type": "markdown",
   "metadata": {},
   "source": [
    "### 学习成绩和体能测试成绩，两者的相关性是多少"
   ]
  },
  {
   "cell_type": "code",
   "execution_count": 9,
   "metadata": {},
   "outputs": [
    {
     "name": "stdout",
     "output_type": "stream",
     "text": [
      "总成绩与体能测试成绩相关性: -0.10529832665858874\n",
      "C1 与体能测试成绩相关性: -0.04014572030945103\n",
      "C2 与体能测试成绩相关性: -0.08602947078353655\n",
      "C3 与体能测试成绩相关性: 0.0872019991922797\n",
      "C4 与体能测试成绩相关性: -0.04154500317393868\n",
      "C5 与体能测试成绩相关性: 0.01702552295767156\n",
      "C6 与体能测试成绩相关性: -0.027614167770316944\n",
      "C7 与体能测试成绩相关性: 0.019178527346839058\n",
      "C8 与体能测试成绩相关性: -0.1506977387335279\n",
      "C9 与体能测试成绩相关性: -0.011357364453601507\n",
      "C10 与体能测试成绩相关性: nan\n"
     ]
    }
   ],
   "source": [
    "print('总成绩与体能测试成绩相关性:',data.corr().loc['Grade','Constitution'])\n",
    "for i in range(1,11):\n",
    "    cclass='C'+str(i)\n",
    "    print(cclass,'与体能测试成绩相关性:',data.corr().loc[cclass,'Constitution'])"
   ]
  },
  {
   "cell_type": "markdown",
   "metadata": {},
   "source": [
    "## 实验2"
   ]
  },
  {
   "cell_type": "markdown",
   "metadata": {},
   "source": [
    " ### 以课程1成绩为x轴，体能成绩为y轴，画出散点图"
   ]
  },
  {
   "cell_type": "code",
   "execution_count": 10,
   "metadata": {},
   "outputs": [
    {
     "data": {
      "text/plain": [
       "[<matplotlib.lines.Line2D at 0x121980e48>]"
      ]
     },
     "execution_count": 10,
     "metadata": {},
     "output_type": "execute_result"
    },
    {
     "data": {
      "image/png": "[encoded data removed]",
      "text/plain": [
       "<Figure size 432x288 with 1 Axes>"
      ]
     },
     "metadata": {
      "needs_background": "light"
     },
     "output_type": "display_data"
    }
   ],
   "source": [
    "plt.plot(data['C1'],data['Constitution'],'.')"
   ]
  },
  {
   "cell_type": "markdown",
   "metadata": {},
   "source": [
    "### 以5分为间隔，画出课程1的成绩直方图"
   ]
  },
  {
   "cell_type": "code",
   "execution_count": 11,
   "metadata": {},
   "outputs": [
    {
     "data": {
      "text/plain": [
       "(array([ 2., 18., 34., 43.,  4.]),\n",
       " array([67. , 71.6, 76.2, 80.8, 85.4, 90. ]),\n",
       " <a list of 5 Patch objects>)"
      ]
     },
     "execution_count": 11,
     "metadata": {},
     "output_type": "execute_result"
    },
    {
     "data": {
      "image/png": "[encoded data removed]",
      "text/plain": [
       "<Figure size 432x288 with 1 Axes>"
      ]
     },
     "metadata": {
      "needs_background": "light"
     },
     "output_type": "display_data"
    }
   ],
   "source": [
    "plt.hist(data['C1'],bins=5)"
   ]
  },
  {
   "cell_type": "markdown",
   "metadata": {},
   "source": [
    "### 对每门成绩进行z-score归一化，得到归一化的数据矩阵"
   ]
  },
  {
   "cell_type": "code",
   "execution_count": 12,
   "metadata": {},
   "outputs": [
    {
     "name": "stdout",
     "output_type": "stream",
     "text": [
      "归一化矩阵 (101, 11)\n"
     ]
    }
   ],
   "source": [
    "#平均数\n",
    "def get_average(records):\n",
    "    return sum(records) / len(records)\n",
    "#方差\n",
    "def get_variance(records):\n",
    "    average = get_average(records)\n",
    "    return sum([(x - average) ** 2 for x in records]) / len(records)\n",
    "#标准差\n",
    "def get_standard_deviation(records):\n",
    "    variance = get_variance(records)\n",
    "    return math.sqrt(variance)\n",
    "#z_score归一化\n",
    "def get_z_score(records):\n",
    "    avg = get_average(records)\n",
    "    stan = get_standard_deviation(records)\n",
    "    scores = [(i-avg)/stan for i in records]\n",
    "    return scores\n",
    "#每门成绩的归一化\n",
    "data_z_score=pd.DataFrame()\n",
    "for i in range(1,10):\n",
    "    cclass='C'+str(i)\n",
    "    cclass_z_score=cclass+'_z_score'\n",
    "    data_z_score[cclass_z_score]=get_z_score(data[cclass])\n",
    "data_z_score['C10_z_score']=0\n",
    "data_z_score['Constitution_z_score']=get_z_score(data['Constitution'])\n",
    "print('归一化矩阵',data_z_score.shape)"
   ]
  },
  {
   "cell_type": "markdown",
   "metadata": {},
   "source": [
    "### 计算协相关矩阵，并可视化出混淆矩阵"
   ]
  },
  {
   "cell_type": "code",
   "execution_count": 13,
   "metadata": {
    "scrolled": false
   },
   "outputs": [
    {
     "name": "stdout",
     "output_type": "stream",
     "text": [
      "协相关矩阵 (101, 101) 可视化\n"
     ]
    },
    {
     "data": {
      "text/plain": [
       "<matplotlib.colorbar.Colorbar at 0x121ac0978>"
      ]
     },
     "execution_count": 13,
     "metadata": {},
     "output_type": "execute_result"
    },
    {
     "data": {
      "image/png": "[encoded data removed]",
      "text/plain": [
       "<Figure size 864x864 with 2 Axes>"
      ]
     },
     "metadata": {
      "needs_background": "light"
     },
     "output_type": "display_data"
    }
   ],
   "source": [
    "data_score_matrix=data.iloc[:,5:16].reset_index().T.corr()\n",
    "print('协相关矩阵',data_score_matrix.shape,'可视化')\n",
    "harvest = np.array(data_score_matrix)\n",
    "fig, ax = plt.subplots(figsize=(12, 12))\n",
    "im = ax.imshow(harvest)\n",
    "plt.colorbar(im)"
   ]
  },
  {
   "cell_type": "markdown",
   "metadata": {},
   "source": [
    "### 根据协相关矩阵，找到距离每个样本最近的三个样本，得到nx3的矩阵"
   ]
  },
  {
   "cell_type": "code",
   "execution_count": 14,
   "metadata": {},
   "outputs": [
    {
     "name": "stdout",
     "output_type": "stream",
     "text": [
      "近邻矩阵 (101, 3)\n"
     ]
    }
   ],
   "source": [
    "max_3_matrix=pd.DataFrame()\n",
    "for i in range(data_score_matrix.shape[0]):\n",
    "    data_score_matrix.sort_values([i],ascending=False)\n",
    "    max_3_matrix=max_3_matrix.append(data.iloc[data_score_matrix.sort_values(i,ascending=False).head(4).index[1:]]['ID'].reset_index(drop=1))\n",
    "print('近邻矩阵',max_3_matrix.shape)"
   ]
  },
  {
   "cell_type": "markdown",
   "metadata": {},
   "source": [
    "## 实验3"
   ]
  },
  {
   "cell_type": "markdown",
   "metadata": {},
   "source": [
    "### k_means的实现"
   ]
  },
  {
   "cell_type": "code",
   "execution_count": 15,
   "metadata": {},
   "outputs": [],
   "source": [
    "class K_Means(object):\n",
    "    def __init__(self, k=3, loss=0.001, max_iter=30):\n",
    "        self.k= k\n",
    "        self.loss = loss\n",
    "        self.max_iter= max_iter\n",
    "\n",
    "    def fit(self, train_data):\n",
    "        self.train_data = np.array(train_data)\n",
    "        self.centers = {}\n",
    "        for i in range(self.k):\n",
    "            #中心点有多种初始化方法\n",
    "            self.centers[i] = self.train_data[i]\n",
    "\n",
    "        for i in range(self.max_iter):\n",
    "            self.clf = {}\n",
    "            for i in range(self.k):\n",
    "                self.clf[i] = []\n",
    "            for feature in self.train_data:\n",
    "                distances = []\n",
    "                for center in self.centers:\n",
    "                    distances.append(self.l2_distance(feature,self.centers[center]))\n",
    "                    \n",
    "                classification = distances.index(min(distances))\n",
    "                self.clf[classification].append(feature)\n",
    "                \n",
    "            prev_centers = dict(self.centers)\n",
    "            for c in self.clf:\n",
    "                self.centers[c] = np.mean(self.clf[c], axis=0)\n",
    "\n",
    "            # '中心点'是否在误差范围\n",
    "            optimized = True\n",
    "            for center in self.centers:\n",
    "                org_centers = prev_centers[center]\n",
    "                cur_centers = self.centers[center]\n",
    "                if np.sum((cur_centers - org_centers) / org_centers * 100.0) > self.loss:\n",
    "                    optimized = False\n",
    "            if optimized:\n",
    "                break\n",
    "        return self.centers\n",
    "\n",
    "    def predict(self, test_data):\n",
    "        self.test_data = np.array(test_data)\n",
    "        indexs=[]\n",
    "        for feature in self.test_data:\n",
    "            \n",
    "            distances = [self.l2_distance(feature,self.centers[center]) for center in self.centers]\n",
    "            index = distances.index(min(distances))\n",
    "            indexs.append(index)\n",
    "        return indexs\n",
    "    \n",
    "    def l1_distance(self,x,y):\n",
    "        return np.sum(abs(x-y))\n",
    "\n",
    "    def l2_distance(self, x,y):\n",
    "        return np.sum(np.square(x-y))**0.5\n",
    "\n",
    "\n",
    "def kmeans(data,test=0,k=2):\n",
    "    k_means = K_Means(k=k)\n",
    "    centers=k_means.fit(data)\n",
    "    if(test==0):\n",
    "        test=data\n",
    "    y_predict = k_means.predict(test)\n",
    "    return centers,y_predict"
   ]
  },
  {
   "cell_type": "markdown",
   "metadata": {},
   "source": [
    "### 对实验二中的z-score归一化的成绩数据进行测试，观察聚类为2类，3类，4类，5类的结果"
   ]
  },
  {
   "cell_type": "code",
   "execution_count": 16,
   "metadata": {},
   "outputs": [
    {
     "name": "stdout",
     "output_type": "stream",
     "text": [
      "[0, 1, 1, 1, 1, 0, 0, 0, 0, 1, 0, 0, 1, 0, 0, 0, 0, 1, 0, 0, 0, 1, 1, 0, 1, 0, 1, 0, 0, 1, 0, 0, 1, 1, 0, 1, 0, 1, 1, 1, 1, 0, 1, 0, 0, 1, 0, 0, 0, 0, 0, 1, 0, 1, 0, 0, 0, 0, 1, 0, 0, 0, 0, 0, 0, 1, 1, 0, 1, 1, 0, 1, 0, 0, 1, 1, 0, 1, 0, 0, 1, 0, 0, 0, 0, 0, 0, 0, 0, 0, 1, 0, 1, 1, 1, 1, 0, 1, 0, 0, 1]\n"
     ]
    }
   ],
   "source": [
    "print(kmeans(data_z_score,k=2)[1])"
   ]
  },
  {
   "cell_type": "code",
   "execution_count": 17,
   "metadata": {},
   "outputs": [
    {
     "name": "stdout",
     "output_type": "stream",
     "text": [
      "[0, 1, 2, 2, 1, 2, 0, 2, 2, 1, 2, 2, 2, 2, 0, 0, 0, 2, 0, 0, 0, 2, 2, 0, 2, 2, 2, 2, 2, 2, 2, 2, 1, 2, 0, 1, 2, 1, 1, 2, 1, 2, 1, 2, 0, 2, 0, 0, 0, 2, 0, 2, 2, 2, 0, 0, 0, 2, 2, 2, 2, 2, 0, 0, 0, 1, 2, 2, 2, 1, 0, 1, 0, 0, 1, 2, 0, 2, 0, 0, 2, 0, 2, 2, 0, 0, 2, 0, 2, 2, 1, 2, 1, 2, 1, 2, 0, 1, 2, 2, 1]\n"
     ]
    }
   ],
   "source": [
    "print(kmeans(data_z_score,k=3)[1])"
   ]
  },
  {
   "cell_type": "code",
   "execution_count": 18,
   "metadata": {},
   "outputs": [
    {
     "name": "stdout",
     "output_type": "stream",
     "text": [
      "[0, 1, 2, 3, 2, 3, 0, 3, 2, 1, 3, 2, 3, 3, 0, 0, 0, 3, 0, 3, 3, 3, 2, 0, 3, 3, 3, 2, 2, 2, 2, 2, 1, 2, 3, 1, 3, 2, 2, 2, 1, 3, 1, 3, 0, 2, 0, 2, 3, 3, 3, 2, 2, 3, 0, 0, 0, 2, 3, 3, 3, 3, 0, 0, 0, 2, 3, 2, 3, 2, 0, 1, 0, 0, 2, 2, 3, 3, 3, 0, 3, 0, 0, 3, 0, 0, 3, 0, 3, 3, 1, 2, 3, 2, 1, 2, 2, 1, 3, 3, 1]\n"
     ]
    }
   ],
   "source": [
    "print(kmeans(data_z_score,k=4)[1])"
   ]
  },
  {
   "cell_type": "code",
   "execution_count": 19,
   "metadata": {},
   "outputs": [
    {
     "name": "stdout",
     "output_type": "stream",
     "text": [
      "[0, 1, 2, 3, 4, 3, 0, 3, 2, 4, 3, 2, 4, 3, 0, 0, 0, 3, 4, 3, 3, 3, 4, 0, 3, 3, 3, 4, 4, 2, 2, 4, 1, 4, 0, 4, 4, 2, 1, 3, 4, 3, 1, 3, 0, 3, 0, 2, 3, 3, 4, 4, 2, 4, 0, 0, 0, 2, 4, 3, 3, 3, 0, 0, 0, 2, 3, 2, 3, 4, 0, 1, 0, 0, 2, 2, 3, 3, 4, 0, 3, 0, 2, 3, 0, 0, 3, 0, 3, 3, 1, 2, 3, 4, 4, 2, 2, 1, 3, 3, 4]\n"
     ]
    }
   ],
   "source": [
    "print(kmeans(data_z_score,k=5)[1])"
   ]
  },
  {
   "cell_type": "markdown",
   "metadata": {},
   "source": [
    "### 对测试数据进行测试，并画出可视化出散点图，类中心，类半径，并分析聚为几类合适"
   ]
  },
  {
   "cell_type": "code",
   "execution_count": 20,
   "metadata": {},
   "outputs": [],
   "source": [
    "exam=pd.DataFrame()\n",
    "exam['x']=[3.45,1.76,4.29,3.35,3.17,3.68,2.11,2.58,3.45,6.17,4.20,5.87,5.47,5.97,6.24,6.89,5.38,5.13,7.26,6.32]\n",
    "exam['y']=[7.08,7.24,9.55,6.65,6.41,5.99,4.08,7.10,7.88,5.40,6.46,3.87,2.21,3.62,3.06,2.41,2.32,2.73,4.19,3.62]\n",
    "\n",
    "def map_exam(k):\n",
    "    centers,exam['label']=kmeans(exam[['x','y']],k=k)\n",
    "    plt.subplots(figsize=(5,5))\n",
    "    plt.xlim(xmax=10,xmin=0)\n",
    "    plt.ylim(ymax=10,ymin=0)\n",
    "    area = np.pi * 4**2  # 点面积 \n",
    "    cm=['c','b','g','r','m','y','k','w']\n",
    "    for i in range(k):\n",
    "        ii=str(i)\n",
    "        dis=0\n",
    "        maxdis=0\n",
    "        exam_k=exam[exam['label']==i].reset_index(drop=1)\n",
    "        for j in range(exam_k.shape[0]):\n",
    "            dis=np.sum(np.square(centers[i]-exam_k.iloc[j,:-1]))**0.5\n",
    "            if dis>maxdis:\n",
    "                maxdis=dis\n",
    "        plt.scatter(exam_k['x'], exam_k['y'], s=area,c=cm[i],alpha=1, label=ii)\n",
    "        plt.scatter(centers[i][0], centers[i][1],c=cm[i],alpha=0.1,s=maxdis**2*3000)\n",
    "        plt.scatter(centers[i][0], centers[i][1],alpha=1,c=cm[i],marker='x')\n",
    "    title='k='+str(k)\n",
    "    plt.title(title)\n",
    "    plt.legend()"
   ]
  },
  {
   "cell_type": "code",
   "execution_count": 21,
   "metadata": {},
   "outputs": [
    {
     "data": {
      "image/png": "[encoded data removed]",
      "text/plain": [
       "<Figure size 360x360 with 1 Axes>"
      ]
     },
     "metadata": {
      "needs_background": "light"
     },
     "output_type": "display_data"
    }
   ],
   "source": [
    "map_exam(2)"
   ]
  },
  {
   "cell_type": "code",
   "execution_count": 22,
   "metadata": {},
   "outputs": [
    {
     "data": {
      "image/png": "[encoded data removed]",
      "text/plain": [
       "<Figure size 360x360 with 1 Axes>"
      ]
     },
     "metadata": {
      "needs_background": "light"
     },
     "output_type": "display_data"
    }
   ],
   "source": [
    "map_exam(3)"
   ]
  },
  {
   "cell_type": "code",
   "execution_count": 23,
   "metadata": {},
   "outputs": [
    {
     "data": {
      "image/png": "[encoded data removed]",
      "text/plain": [
       "<Figure size 360x360 with 1 Axes>"
      ]
     },
     "metadata": {
      "needs_background": "light"
     },
     "output_type": "display_data"
    }
   ],
   "source": [
    "map_exam(4)"
   ]
  },
  {
   "cell_type": "code",
   "execution_count": 24,
   "metadata": {},
   "outputs": [
    {
     "data": {
      "image/png": "[encoded data removed]",
      "text/plain": [
       "<Figure size 360x360 with 1 Axes>"
      ]
     },
     "metadata": {
      "needs_background": "light"
     },
     "output_type": "display_data"
    }
   ],
   "source": [
    "map_exam(5)"
   ]
  },
  {
   "cell_type": "markdown",
   "metadata": {},
   "source": [
    "明显是聚为二类更加合适"
   ]
  },
  {
   "cell_type": "markdown",
   "metadata": {},
   "source": [
    "### 找到聚类中心后，判断(2,6)是属于哪一类"
   ]
  },
  {
   "cell_type": "code",
   "execution_count": 25,
   "metadata": {},
   "outputs": [
    {
     "name": "stdout",
     "output_type": "stream",
     "text": [
      "(2,6)属于 1 类\n"
     ]
    }
   ],
   "source": [
    "print('(2,6)属于',kmeans(exam[['x','y']],test=[[2,6]],k=2)[1][0],'类')"
   ]
  },
  {
   "cell_type": "markdown",
   "metadata": {},
   "source": [
    "## 实验4"
   ]
  },
  {
   "cell_type": "code",
   "execution_count": 26,
   "metadata": {},
   "outputs": [],
   "source": [
    "centers,exam['label']=kmeans(exam[['x','y']],k=2)"
   ]
  },
  {
   "cell_type": "markdown",
   "metadata": {},
   "source": [
    "### 学习并画出sigmoid函数"
   ]
  },
  {
   "cell_type": "markdown",
   "metadata": {},
   "source": [
    "$Sigmoid$函数,即\n",
    "\n",
    "$\n",
    "\\delta(t)=\\frac{1}{1+e^{-t}}\n",
    "$"
   ]
  },
  {
   "cell_type": "code",
   "execution_count": 27,
   "metadata": {},
   "outputs": [
    {
     "data": {
      "text/plain": [
       "[<matplotlib.lines.Line2D at 0x121d61048>]"
      ]
     },
     "execution_count": 27,
     "metadata": {},
     "output_type": "execute_result"
    },
    {
     "data": {
      "image/png": "[encoded data removed]",
      "text/plain": [
       "<Figure size 432x288 with 1 Axes>"
      ]
     },
     "metadata": {
      "needs_background": "light"
     },
     "output_type": "display_data"
    }
   ],
   "source": [
    "t=np.arange(-8,8,0.5)\n",
    "d_t=1/(1+np.exp(-t))\n",
    "plt.plot(t,d_t)"
   ]
  },
  {
   "cell_type": "markdown",
   "metadata": {},
   "source": [
    "### 设计梯度下降算法，实现逻辑回归模型的学习过程"
   ]
  },
  {
   "cell_type": "code",
   "execution_count": 28,
   "metadata": {},
   "outputs": [],
   "source": [
    "class LogisticRegression(object):\n",
    "    def __init__(self, fit_intercept=True, solver='sgd', if_standard=True, l1_ratio=None, l2_ratio=None, epochs=10,\n",
    "                 eta=None, batch_size=16):\n",
    "\n",
    "        self.w = None\n",
    "        self.fit_intercept = fit_intercept\n",
    "        self.solver = solver\n",
    "        self.if_standard = if_standard\n",
    "        if if_standard:\n",
    "            self.feature_mean = None\n",
    "            self.feature_std = None\n",
    "        self.epochs = epochs\n",
    "        self.eta = eta\n",
    "        self.batch_size = batch_size\n",
    "        self.l1_ratio = l1_ratio\n",
    "        self.l2_ratio = l2_ratio\n",
    "        self.sign_func = np.vectorize(self.sign)\n",
    "        # 记录losses\n",
    "        self.losses = []\n",
    "        \n",
    "        \n",
    "    def sign(self,x):\n",
    "        \"\"\"\n",
    "        符号函数\n",
    "        :param x:\n",
    "        :return:\n",
    "        \"\"\"\n",
    "        if x>0:\n",
    "            return 1\n",
    "        elif x<0:\n",
    "            return -1\n",
    "        else:\n",
    "            return 0\n",
    "        \n",
    "    def sigmoid(self,x):\n",
    "        \"\"\"\n",
    "        sigmoid函数\n",
    "        :param x2:\n",
    "        :return:\n",
    "        \"\"\"\n",
    "        if type(x) is int:\n",
    "            x = 20.0 if x > 20.0 else x\n",
    "            x = -100.0 if x < -100.0 else x\n",
    "        else:\n",
    "            # 避免下溢\n",
    "            x[x > 20.0] = 20.0\n",
    "            # 避免上溢\n",
    "            x[x < -100.0] = -100.0\n",
    "        return 1 / (1 + np.exp(-x))\n",
    "        \n",
    "        \n",
    "        \n",
    "        \n",
    "    def init_params(self, n_features):\n",
    "        \"\"\"\n",
    "        初始化参数\n",
    "        :return:\n",
    "        \"\"\"\n",
    "        self.w = np.random.random(size=(n_features, 1))\n",
    "\n",
    "    def _fit_closed_form_solution(self, x, y):\n",
    "        \"\"\"\n",
    "        直接求闭式解\n",
    "        :param x:\n",
    "        :param y:\n",
    "        :return:\n",
    "        \"\"\"\n",
    "        self._fit_sgd(x, y)\n",
    "\n",
    "    def _fit_sgd(self, x, y):\n",
    "        \"\"\"\n",
    "        随机梯度下降求解\n",
    "        :param x:\n",
    "        :param y:\n",
    "        :return:\n",
    "        \"\"\"\n",
    "        x_y = np.c_[x, y]\n",
    "        count = 0\n",
    "        for _ in range(self.epochs):\n",
    "            np.random.shuffle(x_y)\n",
    "            for index in range(x_y.shape[0] // self.batch_size):\n",
    "                count += 1\n",
    "                batch_x_y = x_y[self.batch_size * index:self.batch_size * (index + 1)]\n",
    "                batch_x = batch_x_y[:, :-1]\n",
    "                batch_y = batch_x_y[:, -1:]\n",
    "\n",
    "                dw = -1 * (batch_y - self.sigmoid(batch_x.dot(self.w))).T.dot(batch_x) / self.batch_size\n",
    "                dw = dw.T\n",
    "\n",
    "                # 添加l1和l2的部分\n",
    "                dw_reg = np.zeros(shape=(x.shape[1] - 1, 1))\n",
    "                if self.l1_ratio is not None:\n",
    "                    dw_reg += self.l1_ratio * self.sign_func(self.w[:-1]) / self.batch_size\n",
    "                if self.l2_ratio is not None:\n",
    "                    dw_reg += 2 * self.l2_ratio * self.w[:-1] / self.batch_size\n",
    "                dw_reg = np.concatenate([dw_reg, np.asarray([[0]])], axis=0)\n",
    "\n",
    "                dw += dw_reg\n",
    "                self.w = self.w - self.eta * dw\n",
    "\n",
    "            # 计算losses\n",
    "            cost = -1 * np.sum(\n",
    "                np.multiply(y, np.log(self.sigmoid(x.dot(self.w)))) + np.multiply(1 - y, np.log(\n",
    "                    1 - self.sigmoid(x.dot(self.w)))))\n",
    "            self.losses.append(cost)\n",
    "\n",
    "    def fit(self, x, y):\n",
    "        \"\"\"\n",
    "        :param x: ndarray格式数据: m x n\n",
    "        :param y: ndarray格式数据: m x 1\n",
    "        :return:\n",
    "        \"\"\"\n",
    "        x=np.array(x)\n",
    "        y=np.array(y)\n",
    "        y = y.reshape(x.shape[0], 1)\n",
    "        # 是否归一化feature\n",
    "        if self.if_standard:\n",
    "            self.feature_mean = np.mean(x, axis=0)\n",
    "            self.feature_std = np.std(x, axis=0) + 1e-8\n",
    "            x = (x - self.feature_mean) / self.feature_std\n",
    "        # 是否训练bias\n",
    "        if self.fit_intercept:\n",
    "            x = np.c_[x, np.ones_like(y)]\n",
    "        # 初始化参数\n",
    "        self.init_params(x.shape[1])\n",
    "        # 更新eta\n",
    "        if self.eta is None:\n",
    "            self.eta = self.batch_size / np.sqrt(x.shape[0])\n",
    "\n",
    "        if self.solver == 'closed_form':\n",
    "            self._fit_closed_form_solution(x, y)\n",
    "        elif self.solver == 'sgd':\n",
    "            self._fit_sgd(x, y)\n",
    "\n",
    "    def get_params(self):\n",
    "        \"\"\"\n",
    "        输出原始的系数\n",
    "        :return: w,b\n",
    "        \"\"\"\n",
    "        if self.fit_intercept:\n",
    "            w = self.w[:-1]\n",
    "            b = self.w[-1]\n",
    "        else:\n",
    "            w = self.w\n",
    "            b = 0\n",
    "        if self.if_standard:\n",
    "            w = w / self.feature_std.reshape(-1, 1)\n",
    "            b = b - w.T.dot(self.feature_mean.reshape(-1, 1))\n",
    "        return w.reshape(-1), b\n",
    "\n",
    "    def predict_proba(self, x):\n",
    "        \"\"\"\n",
    "        预测为y=1的概率\n",
    "        :param x:ndarray格式数据: m x n\n",
    "        :return: m x 1\n",
    "        \"\"\"\n",
    "        if self.if_standard:\n",
    "            x = (x - self.feature_mean) / self.feature_std\n",
    "        if self.fit_intercept:\n",
    "            x = np.c_[x, np.ones(x.shape[0])]\n",
    "        return self.sigmoid(x.dot(self.w))\n",
    "\n",
    "    def predict(self, x):\n",
    "        \"\"\"\n",
    "        预测类别，默认大于0.5的为1，小于0.5的为0\n",
    "        :param x:\n",
    "        :return:\n",
    "        \"\"\"\n",
    "        proba = self.predict_proba(x)\n",
    "        return (proba > 0.5).astype(int)\n",
    "\n",
    "    def plot_decision_boundary(self, x, y,test=None):\n",
    "        \"\"\"\n",
    "        绘制前两个维度的决策边界\n",
    "        :param x:\n",
    "        :param y:\n",
    "        :return:\n",
    "        \"\"\"\n",
    "        x=np.array(x)\n",
    "        y=np.array(y)\n",
    "        y = y.reshape(-1)\n",
    "        weights, bias = self.get_params()\n",
    "        w1 = weights[0]\n",
    "        w2 = weights[1]\n",
    "        bias = bias[0][0]\n",
    "        x1 = np.arange(np.min(x), np.max(x), 0.1)\n",
    "        x2 = -w1 / w2 * x1 - bias / w2\n",
    "        plt.subplots(figsize=(5,5))\n",
    "        plt.xlim(xmax=10,xmin=0)\n",
    "        plt.ylim(ymax=10,ymin=0)\n",
    "        area = np.pi * 4**2\n",
    "        if test is not None:\n",
    "            plt.scatter(x[np.argwhere(y==0)][:,:,0], x[np.argwhere(y==0)][:,:,1],s=area,label=0)\n",
    "            plt.scatter(x[np.argwhere(y==1)][:,:,0], x[np.argwhere(y==1)][:,:,1],s=area,label=1)\n",
    "            plt.scatter(test[0],test[1],s=area,label='test')\n",
    "            plt.legend()\n",
    "        else:\n",
    "            plt.scatter(x[np.argwhere(y==0)][:,:,0], x[np.argwhere(y==0)][:,:,1],s=area)\n",
    "            plt.scatter(x[np.argwhere(y==1)][:,:,0], x[np.argwhere(y==1)][:,:,1],s=area)\n",
    "        plt.plot(x1, x2, 'y',alpha=0.5)\n",
    "        plt.title('decision_boundary')\n",
    "        plt.show()\n",
    "\n",
    "    def plot_losses(self):\n",
    "        \"\"\"\n",
    "        交叉熵损失\n",
    "        \"\"\"\n",
    "        plt.plot(range(0, len(self.losses)), self.losses)\n",
    "        plt.show()"
   ]
  },
  {
   "cell_type": "markdown",
   "metadata": {},
   "source": [
    "### 用梯度下降算法进行数据拟合，并用学习好的模型对(2,6)分类"
   ]
  },
  {
   "cell_type": "code",
   "execution_count": 29,
   "metadata": {},
   "outputs": [
    {
     "data": {
      "image/png": "[encoded data removed]",
      "text/plain": [
       "<Figure size 360x360 with 1 Axes>"
      ]
     },
     "metadata": {
      "needs_background": "light"
     },
     "output_type": "display_data"
    }
   ],
   "source": [
    "lr = LogisticRegression()\n",
    "#数据拟合\n",
    "lr.fit(exam.iloc[:,:-1], exam.iloc[:,-1])\n",
    "#绘制决策边界\n",
    "lr.plot_decision_boundary(exam.iloc[:,:-1], exam.iloc[:,-1])"
   ]
  },
  {
   "cell_type": "code",
   "execution_count": 30,
   "metadata": {},
   "outputs": [
    {
     "data": {
      "image/png": "[encoded data removed]",
      "text/plain": [
       "<Figure size 360x360 with 1 Axes>"
      ]
     },
     "metadata": {
      "needs_background": "light"
     },
     "output_type": "display_data"
    },
    {
     "name": "stdout",
     "output_type": "stream",
     "text": [
      "(2,6)属于 1 类\n"
     ]
    }
   ],
   "source": [
    "lr.plot_decision_boundary(exam.iloc[:,:-1], exam.iloc[:,-1],test=[2,6])\n",
    "print('(2,6)属于',lr.predict([[2,6]])[0][0],'类')"
   ]
  },
  {
   "cell_type": "markdown",
   "metadata": {},
   "source": [
    "## 知识点\n",
    "\n",
    "### k means\n",
    "\n",
    ">输入：样本集$D=\\{x_1,x_2,...,x_m\\}$；聚类次数$k$；终止误差$tol$  \n",
    "\n",
    ">过程   \n",
    "\n",
    ">（1）从$D$中随机选择$k$个样本作为初始均值向量${\\mu_1,\\mu_2,...,\\mu_k}$   \n",
    "\n",
    ">（2）重复如下过程，直到终止条件   \n",
    "\n",
    ">>（2.1）令$C_i=\\{\\},i=1,2,...,k$；  \n",
    "\n",
    ">>（2.2）对$j=1,2,...,m$；   \n",
    "\n",
    ">>>（2.2.1）计算样本$x_j$与各均值向量$\\mu_i,i=1,2,...,k$：$d_{ji}=||x_j-\\mu_i||_2$；  \n",
    "\n",
    ">>>（2.2.2）根据距离最近的均值向量确定$x_j$的簇标记：$\\lambda_j=arg\\min_{i\\in \\{1,2,...,k\\}}d_{ji}$；   \n",
    "\n",
    ">>>（2.2.3）将样本$x_j$划入相应的簇$C_{\\lambda_j}=C_{\\lambda_j}\\bigcup\\{x_j\\}$；  \n",
    "\n",
    ">>（2.3）令$\\epsilon=0$，对$i=1,2,...,k$  \n",
    "\n",
    ">>>（2.3.1）计算新的均值向量：$\\mu'_i=\\frac{1}{C_i}\\sum_{x\\in C_i}x$，令$\\epsilon=\\epsilon+||u_i-u'_i||_2$\n",
    "\n",
    ">>>（2.3.2）并更新$u_i=u'_i$  \n",
    "\n",
    ">> （2.4）如果$\\epsilon<tol$，则终止循环  \n",
    "\n",
    ">输出：$C=\\{C_1,C_2,...,C_k\\}$\n",
    "\n",
    "### 线性回归\n",
    "线性回归算是回归任务中比较简单的一种模型，它的模型结构可以表示如下：  回归 \n",
    "\n",
    "$$\n",
    "f(x)=w^Tx^*\n",
    "$$  \n",
    "这里$x^*=[x^T,1]^T$，$x\\in R^n$，所以$w\\in R^{n+1}$，$w$即是模型需要学习的参数，下面造一些伪数据进行演示：\n",
    "\n",
    "### 损失函数\n",
    "利用等式$y=3x+2$我造了一些伪数据，并给$x$添加了一些噪声数据，线性回归的目标即在只有$x,y$的情况下，求解出最优解：$w=[3,2]^T$；可以通过MSE（均方误差）来衡量$f(x)$与$y$的相近程度：  \n",
    "\n",
    "$$\n",
    "L(w)=\\sum_{i=1}^m(y_i-f(x_i))^2=\\sum_{i=1}^m(y_i-w^Tx_i^*)^2=(Y-X^*w)^T(Y-X^*w)\n",
    "$$  \n",
    "\n",
    "这里$m$表示样本量，本例中$m=100$，$x_i,y_i$表示第$i$个样本，$X^*\\in R^{m \\times (n+1)},Y\\in R^{m\\times 1}$，损失函数$L(w)$本质上是关于$w$的函数，通过求解最小的$L(w)$即可得到$w$的最优解：\n",
    "\n",
    "$$\n",
    "w^*=arg \\min_{w}L(w)\n",
    "$$\n",
    "\n",
    "\n",
    "### 直接求闭式解\n",
    "\n",
    "而对$\\min L(w)$的求解很明显是一个凸问题（海瑟矩阵${X^*}^TX^*$正定），我们可以直接通过求解$\\frac{dL}{dw}=0$得到$w^*$，梯度推导如下：  \n",
    "\n",
    "$$\n",
    "\\frac{dL}{dw}=-2\\sum_{i=1}^m(y_i-w^Tx_i^*)x_i^*=-2{X^*}^T(Y-X^*w)\\\\\n",
    "$$  \n",
    "令$\\frac{dL}{dw}=0$，可得：$w^*=({X^*}^TX^*)^{-1}{X^*}^TY$，实际情景中数据不一定能满足${X^*}^TX$是满秩（比如$m<n$的情况下，$w$的解有无数种），所以没法直接求逆，我们可以考虑用如下的方式求解：\n",
    "$$\n",
    "{X^*}^+=\\lim_{\\alpha\\rightarrow0}({X^*}^TX^*+\\alpha I)^{-1}{X^*}^T\n",
    "$$  \n",
    "\n",
    "上面的公式即是Moore-Penrose伪逆的定义，但实际求解更多是通过SVD的方式：  \n",
    "\n",
    "$$\n",
    "{X^*}^+=VD^+U^T\n",
    "$$  \n",
    "\n",
    "其中，$U,D,V$是矩阵$X^*$做奇异值分解（SVD）后得到的矩阵，对角矩阵$D$的伪逆$D^+$由其非零元素取倒数之后再转置得到，通过伪逆求解到的结果有如下优点：  \n",
    "\n",
    "（1）当$w$有解时，$w^*={X^*}^+Y$是所有解中欧几里得距离$||w||_2$最小的一个；    \n",
    "\n",
    "（2）当$w$无解时，通过伪逆得到的$w^*$是使得$X^*w^*$与$Y$的欧几里得距离$||X^*w^*-Y||_2$最小  \n",
    "\n",
    "### 梯度下降求解\n",
    "\n",
    "但对于数据量很大的情况，求闭式解的方式会让内存很吃力，我们可以通过随机梯度下降法（SGD）对$w$进行更新，首先随机初始化$w$，然后使用如下的迭代公式对$w$进行迭代更新：  \n",
    "$$\n",
    "w:=w-\\eta\\frac{dL}{dw}\n",
    "$$  \n",
    "\n",
    "### 正则化\n",
    "异常点会对预测产生很大的影响，且偏离很远，这在实际情况中是很常见的；通常可以通过对模型参数添加正则化约束来避免这种情况，使其不会太“飘”，做法是在loss函数中为权重$w$添加$L_1$或者$L_2$约束\n",
    "\n",
    "1.线性回归中添加$L_1$约束称为Lasso回归，其损失函数如下：  \n",
    "$$\n",
    "L(w)=\\sum_{i=1}^m(y_i-f(x_i))^2+\\lambda||w||_1\n",
    "$$  \n",
    "2.线性回归中添加$L_2$约束称为Ridge回归，其损失函数如下：  \n",
    "$$\n",
    "L(w)=\\sum_{i=1}^m(y_i-f(x_i))^2+\\alpha||w||_2\n",
    "$$ \n",
    "3.如果不太确定用$L_1$好，还是$L_2$好，可以用它们的组合，称作ElasticNet，损失函数如下：  \n",
    "$$\n",
    "L(w)=\\sum_{i=1}^m(y_i-f(x_i))^2+\\lambda||w||_1+\\alpha||w||_2\n",
    "$$ \n",
    "可以发现通过调整超参，可以控制$w$的大小，如果$\\lambda$或$\\alpha$设置很大，$w$会被约束的很小，而如果$\\alpha$或$\\lambda$设置为0，等价于原始的不带正则项的线性回归；通常可以通过交叉验证，根据验证集上的表现来设置一个合适的超参；接下来在上一节线性回归代码的基础上实现Lasso,Ridge,ElasticNet模型，另外设置两个参数`l1_ratio`以及`l2_ratio`，分别用来控制$L_1$和$L_2$的loss部分的权重\n",
    "\n",
    "### 逻辑回归\n",
    "逻辑回归(LogisticRegression)简单来看就是在线性回归模型外面再套了一个$Sigmoid$函数：  \n",
    "\n",
    "而将$t$替换为线性回归模型$w^Tx^*$（这里$x^*=[x^T,1]^T$）即可得到逻辑回归模型：  \n",
    "$$\n",
    "f(x)=\\delta(w^Tx^*)=\\frac{1}{1+e^{-(w^Tx^*)}}\n",
    "$$  \n",
    "我们可以发现：  \n",
    "$Sigmoid$函数决定了模型的输出在$(0,1)$区间，所以逻辑回归模型可以用作区间在$(0,1)$的回归任务，也可以用作$\\{0,1\\}$的二分类任务；同样，由于模型的输出在$(0,1)$区间，所以逻辑回归模型的输出也可以看作这样的“概率”模型：  \n",
    "$$\n",
    "P(y=1\\mid x)=f(x)\\\\\n",
    "P(y=0\\mid x)=1-f(x)\n",
    "$$  \n",
    "所以，逻辑回归的学习目标可以通过极大似然估计求解： \n",
    "$\\prod_{j=1}^n f(x_j)^{y_j}(1-f(x_j))^{(1-y_j)}$，即使得观测到的当前所有样本的所属类别概率尽可能大；通过对该函数取负对数，即可得到交叉熵损失函数：  \n",
    "$$\n",
    "L(w)=-\\sum_{j=1}^n y_j log(f(x_j))+(1-y_j)log(1-f(x_j))\n",
    "$$  \n",
    "这里$n$表示样本量，$x_j\\in R^m$，$m$表示特征量，$y_j\\in \\{0,1\\}$，接下来的与之前推导一样，通过梯度下降求解$w$的更新公式即可：  \n",
    "$$\n",
    "\\frac{\\partial L}{\\partial w}=-\\sum_{i=1}^n (y_i-f(x_i))x_i^*\n",
    "$$  \n",
    "所以$w$的更新公式：  \n",
    "$$\n",
    "w:=w-\\eta \\frac{\\partial L}{\\partial w}\n",
    "$$"
   ]
  }
 ],
 "metadata": {
  "gist": {
   "data": {
    "description": "private/var/mobile/Library/Mobile Documents/iCloud~AsheKube~Carnets/Documents/数据挖掘实验/11.ipynb",
    "public": true
   },
   "id": ""
  },
  "hide_input": false,
  "kernelspec": {
   "display_name": "Python 3",
   "language": "python",
   "name": "python3"
  },
  "language_info": {
   "codemirror_mode": {
    "name": "ipython",
    "version": 3
   },
   "file_extension": ".py",
   "mimetype": "text/x-python",
   "name": "python",
   "nbconvert_exporter": "python",
   "pygments_lexer": "ipython3",
   "version": "3.7.1"
  },
  "nbTranslate": {
   "displayLangs": [],
   "hotkey": "alt-t",
   "langInMainMenu": true,
   "sourceLang": "ca",
   "targetLang": "en",
   "useGoogleTranslate": true
  },
  "toc": {
   "base_numbering": 1,
   "nav_menu": {},
   "number_sections": false,
   "sideBar": true,
   "skip_h1_title": false,
   "title_cell": "数据挖掘实验",
   "title_sidebar": "数据挖掘实验",
   "toc_cell": true,
   "toc_position": {},
   "toc_section_display": true,
   "toc_window_display": false
  },
  "varInspector": {
   "cols": {
    "lenName": 16,
    "lenType": 16,
    "lenVar": 40
   },
   "kernels_config": {
    "python": {
     "delete_cmd_postfix": "",
     "delete_cmd_prefix": "del ",
     "library": "var_list.py",
     "varRefreshCmd": "print(var_dic_list())"
    },
    "r": {
     "delete_cmd_postfix": ") ",
     "delete_cmd_prefix": "rm(",
     "library": "var_list.r",
     "varRefreshCmd": "cat(var_dic_list()) "
    }
   },
   "position": {
    "height": "144px",
    "left": "742px",
    "right": "20px",
    "top": "125px",
    "width": "350px"
   },
   "types_to_exclude": [
    "module",
    "function",
    "builtin_function_or_method",
    "instance",
    "_Feature"
   ],
   "window_display": false
  }
 },
 "nbformat": 4,
 "nbformat_minor": 2
}
